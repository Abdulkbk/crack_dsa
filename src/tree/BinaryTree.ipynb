{
 "cells": [
  {
   "cell_type": "code",
   "execution_count": 3,
   "metadata": {},
   "outputs": [],
   "source": [
    "# BInary Tree IMplementation\n",
    "class TreeNode:\n",
    "    def __init__(self, key) -> None:\n",
    "        self.key = key\n",
    "        self.left = None\n",
    "        self.right = None"
   ]
  },
  {
   "cell_type": "code",
   "execution_count": 4,
   "metadata": {},
   "outputs": [],
   "source": [
    "node1 = TreeNode(3)\n",
    "node2 = TreeNode(4)\n",
    "node3 = TreeNode(5)"
   ]
  },
  {
   "cell_type": "code",
   "execution_count": 5,
   "metadata": {},
   "outputs": [],
   "source": [
    "node1.left = node2  # type: ignore\n",
    "node1.right = node3 # type: ignore"
   ]
  },
  {
   "cell_type": "code",
   "execution_count": 6,
   "metadata": {},
   "outputs": [
    {
     "data": {
      "text/plain": [
       "(3, 4, 5)"
      ]
     },
     "execution_count": 6,
     "metadata": {},
     "output_type": "execute_result"
    }
   ],
   "source": [
    "node1.key, node1.left.key, node1.right.key # type: ignore"
   ]
  },
  {
   "cell_type": "code",
   "execution_count": 7,
   "metadata": {},
   "outputs": [],
   "source": [
    "# Parse Tuple to Tree helper function\n",
    "def parse_tuple(data):\n",
    "  if isinstance(data, tuple) and len(data) == 3:\n",
    "    node = TreeNode(data[1])\n",
    "    node.left = parse_tuple(data[0]) # type: ignore\n",
    "    node.right = parse_tuple(data[2]) # type: ignore\n",
    "  elif data is None:\n",
    "    node = None\n",
    "  else:\n",
    "    node = TreeNode(data)\n",
    "  return node"
   ]
  },
  {
   "cell_type": "code",
   "execution_count": 8,
   "metadata": {},
   "outputs": [],
   "source": [
    "tree_tuple = ((1, 3, None), 2, ((None, 3, 4),5,(6,7,8)))"
   ]
  },
  {
   "cell_type": "code",
   "execution_count": 9,
   "metadata": {},
   "outputs": [],
   "source": [
    "tree = parse_tuple(tree_tuple)"
   ]
  },
  {
   "cell_type": "code",
   "execution_count": 10,
   "metadata": {},
   "outputs": [
    {
     "data": {
      "text/plain": [
       "(2, 3, 5)"
      ]
     },
     "execution_count": 10,
     "metadata": {},
     "output_type": "execute_result"
    }
   ],
   "source": [
    "tree.key, tree.left.key, tree.right.key #type: ignore"
   ]
  },
  {
   "cell_type": "code",
   "execution_count": 11,
   "metadata": {},
   "outputs": [
    {
     "data": {
      "text/plain": [
       "<__main__.TreeNode at 0x7f415d452110>"
      ]
     },
     "execution_count": 11,
     "metadata": {},
     "output_type": "execute_result"
    }
   ],
   "source": [
    "tree"
   ]
  },
  {
   "cell_type": "code",
   "execution_count": 29,
   "metadata": {},
   "outputs": [],
   "source": [
    "# Parse tree to tuple\n",
    "def parse_tree(data):\n",
    "  if data.left is not None and data.right is not None:\n",
    "    value = data.key\n",
    "    left = parse_tree(data.left)\n",
    "    right = parse_tree(data.right)\n",
    "    return (left, value, right)\n",
    "  \n",
    "  elif data is None:\n",
    "    return 'None'\n",
    "  else:\n",
    "    return data.key\n",
    "\n",
    "\n"
   ]
  },
  {
   "cell_type": "code",
   "execution_count": 30,
   "metadata": {},
   "outputs": [
    {
     "data": {
      "text/plain": [
       "(3, 2, (3, 5, (6, 7, 8)))"
      ]
     },
     "execution_count": 30,
     "metadata": {},
     "output_type": "execute_result"
    }
   ],
   "source": [
    "parse_tree(tree)"
   ]
  },
  {
   "cell_type": "code",
   "execution_count": 13,
   "metadata": {},
   "outputs": [],
   "source": [
    "# Display the keys of each node\n",
    "def display_keys(node, space='\\t', level=0):\n",
    "\n",
    "  # if the Node is empty\n",
    "  if node is None:\n",
    "    print(space*level + '{}')\n",
    "    return\n",
    "  \n",
    "  # if the node is a leaf\n",
    "  if node.left is None and node.right is None:\n",
    "    print(space*level + str(node.key))\n",
    "    return\n",
    "  \n",
    "  # if thr node has children\n",
    "  display_keys(node.right, space, level+1)\n",
    "  print(space * level + str(node.key))\n",
    "  display_keys(node.left, space, level + 1)\n",
    "  "
   ]
  },
  {
   "cell_type": "code",
   "execution_count": 14,
   "metadata": {},
   "outputs": [
    {
     "name": "stdout",
     "output_type": "stream",
     "text": [
      "\t\t\t8\n",
      "\t\t7\n",
      "\t\t\t6\n",
      "\t5\n",
      "\t\t\t4\n",
      "\t\t3\n",
      "\t\t\t{}\n",
      "2\n",
      "\t\t{}\n",
      "\t3\n",
      "\t\t1\n"
     ]
    }
   ],
   "source": [
    "display_keys(tree)"
   ]
  },
  {
   "cell_type": "code",
   "execution_count": 35,
   "metadata": {},
   "outputs": [],
   "source": [
    "# Traversal of a Tree\n",
    "\n",
    "def traversal_inorder(node):\n",
    "  if node is None:\n",
    "    return []\n",
    "  return (traversal_inorder(node.left) + [node.key] + traversal_inorder(node.right)) \n",
    "\n",
    "def traversal_preorder(node):\n",
    "  if node is None:\n",
    "    return []\n",
    "  return ([node.key] + traversal_preorder(node.left) + traversal_preorder(node.right))"
   ]
  },
  {
   "cell_type": "code",
   "execution_count": 37,
   "metadata": {},
   "outputs": [
    {
     "data": {
      "text/plain": [
       "([1, 3, 2, 3, 4, 5, 6, 7, 8], [2, 3, 1, 5, 3, 4, 7, 6, 8])"
      ]
     },
     "execution_count": 37,
     "metadata": {},
     "output_type": "execute_result"
    }
   ],
   "source": [
    "traversal_inorder(tree), traversal_preorder(tree)"
   ]
  },
  {
   "cell_type": "code",
   "execution_count": 38,
   "metadata": {},
   "outputs": [],
   "source": [
    "# Height or Depth of a Tree\n",
    "def tree_height(node):\n",
    "  if node is None:\n",
    "    return 0\n",
    "  return 1 + max(tree_height(node.left), tree_height(node.right))"
   ]
  },
  {
   "cell_type": "code",
   "execution_count": 40,
   "metadata": {},
   "outputs": [
    {
     "data": {
      "text/plain": [
       "4"
      ]
     },
     "execution_count": 40,
     "metadata": {},
     "output_type": "execute_result"
    }
   ],
   "source": [
    "tree_height(tree)"
   ]
  },
  {
   "cell_type": "code",
   "execution_count": 43,
   "metadata": {},
   "outputs": [],
   "source": [
    "# Number of nodes\n",
    "def tree_size(node):\n",
    "  if node is None:\n",
    "    return 0\n",
    "  return 1 + tree_size(node.left) + tree_size(node.right)"
   ]
  },
  {
   "cell_type": "code",
   "execution_count": 42,
   "metadata": {},
   "outputs": [
    {
     "data": {
      "text/plain": [
       "9"
      ]
     },
     "execution_count": 42,
     "metadata": {},
     "output_type": "execute_result"
    }
   ],
   "source": [
    "tree_size(tree)"
   ]
  },
  {
   "cell_type": "code",
   "execution_count": null,
   "metadata": {},
   "outputs": [],
   "source": []
  }
 ],
 "metadata": {
  "kernelspec": {
   "display_name": "Python 3",
   "language": "python",
   "name": "python3"
  },
  "language_info": {
   "codemirror_mode": {
    "name": "ipython",
    "version": 3
   },
   "file_extension": ".py",
   "mimetype": "text/x-python",
   "name": "python",
   "nbconvert_exporter": "python",
   "pygments_lexer": "ipython3",
   "version": "3.10.6"
  }
 },
 "nbformat": 4,
 "nbformat_minor": 2
}
